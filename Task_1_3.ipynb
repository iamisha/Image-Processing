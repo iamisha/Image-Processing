{
  "nbformat": 4,
  "nbformat_minor": 0,
  "metadata": {
    "colab": {
      "provenance": [],
      "gpuType": "T4"
    },
    "kernelspec": {
      "name": "python3",
      "display_name": "Python 3"
    },
    "language_info": {
      "name": "python"
    },
    "accelerator": "GPU"
  },
  "cells": [
    {
      "cell_type": "markdown",
      "source": [
        "# Task 1.3 – Randomized Contour Adjustment\n",
        "\n",
        "Need to create a `random version of the bone mask`, where the boundary lies somewhere between the original mask and the 2 mm expanded mask.\n",
        "\n",
        "Mean:\n",
        "* Create a new mask that is randomly expanded, but not more than 2mm and not smaller than the original."
      ],
      "metadata": {
        "id": "LjgTbkK3zqcT"
      }
    },
    {
      "cell_type": "markdown",
      "source": [
        "### Load the Original and 2mm Expanded Masks"
      ],
      "metadata": {
        "id": "EeRbuhCDJZBS"
      }
    },
    {
      "cell_type": "code",
      "execution_count": 15,
      "metadata": {
        "id": "1elxjSbizeho"
      },
      "outputs": [],
      "source": [
        "import nibabel as nib\n",
        "import numpy as np\n",
        "\n",
        "# Load both masks\n",
        "original = nib.load(\"/content/bone_mask (1).nii.gz\").get_fdata().astype(np.uint8)\n",
        "expanded = nib.load(\"/content/bone_mask_2mm_expanded.nii.gz\").get_fdata().astype(np.uint8)"
      ]
    },
    {
      "cell_type": "markdown",
      "source": [
        "### Find the “In-between Region\""
      ],
      "metadata": {
        "id": "Qa0Kkd9JJfoP"
      }
    },
    {
      "cell_type": "code",
      "source": [
        "# This is the area that exists in expanded but not in original\n",
        "boundary_zone = ((expanded == 1) & (original == 0)).astype(np.uint8)"
      ],
      "metadata": {
        "id": "JlC_l9B-1Rcl"
      },
      "execution_count": 16,
      "outputs": []
    },
    {
      "cell_type": "markdown",
      "source": [
        "###  Randomly Keep Some Parts of the In-between Region"
      ],
      "metadata": {
        "id": "cfgwRQf2JmbH"
      }
    },
    {
      "cell_type": "code",
      "source": [
        "# Set randomness level (between 0 and 1), e.g., 0.5 = keep 50% of new area\n",
        "random_strength = 0.5\n",
        "\n",
        "# Generate a random mask\n",
        "random_mask = np.random.rand(*boundary_zone.shape) < random_strength\n",
        "\n",
        "# Apply it to the in-between region\n",
        "random_fill = (boundary_zone & random_mask).astype(np.uint8)\n",
        "\n",
        "# Combine with original mask\n",
        "randomized_mask = ((original == 1) | (random_fill == 1)).astype(np.uint8)"
      ],
      "metadata": {
        "id": "km-bgf_K1hAY"
      },
      "execution_count": 17,
      "outputs": []
    },
    {
      "cell_type": "markdown",
      "source": [
        "### Save the Randomized Mask"
      ],
      "metadata": {
        "id": "Gl_vzIgYJyLQ"
      }
    },
    {
      "cell_type": "code",
      "source": [
        "affine = nib.load(\"/content/bone_mask (1).nii.gz\").affine  # same affine as original\n",
        "random_img = nib.Nifti1Image(randomized_mask, affine)\n",
        "nib.save(random_img, \"output/randomized_mask_1.nii.gz\")\n"
      ],
      "metadata": {
        "id": "Q9Un2OG31yiu"
      },
      "execution_count": 18,
      "outputs": []
    },
    {
      "cell_type": "code",
      "source": [
        "import matplotlib.pyplot as plt\n",
        "import os\n",
        "\n",
        "# Create output directory if it doesn't exist\n",
        "os.makedirs(\"output\", exist_ok=True)\n",
        "\n",
        "# Choose a middle slice\n",
        "slice_index = randomized_mask.shape[2] // 2\n",
        "\n",
        "# Plot and save the middle slice of the randomized mask\n",
        "plt.figure(figsize=(5, 5))\n",
        "plt.imshow(randomized_mask[:, :, slice_index], cmap='gray')\n",
        "plt.title(\"Randomized Mask 1 (Middle Slice)\")\n",
        "plt.axis('off')\n",
        "plt.tight_layout()\n",
        "plt.savefig(\"output/randomized_mask_3_slice.png\")\n",
        "plt.close()\n",
        "\n",
        "print(\"✅ Saved: output/randomized_mask_3_slice.png\")\n"
      ],
      "metadata": {
        "id": "xaIZ7T2D2Nll",
        "colab": {
          "base_uri": "https://localhost:8080/"
        },
        "outputId": "5769d96c-16f9-4b0b-f747-f6f9043468a8"
      },
      "execution_count": 19,
      "outputs": [
        {
          "output_type": "stream",
          "name": "stdout",
          "text": [
            "✅ Saved: output/randomized_mask_3_slice.png\n"
          ]
        }
      ]
    },
    {
      "cell_type": "code",
      "source": [],
      "metadata": {
        "id": "VwhRgUI6N4J3"
      },
      "execution_count": null,
      "outputs": []
    }
  ]
}