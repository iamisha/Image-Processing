{
 "cells": [
  {
   "cell_type": "markdown",
   "metadata": {
    "id": "NcBnN_QrhP4N"
   },
   "source": [
    "# Task 1.4(Landmark Detection on Tibia)\n",
    "\n",
    "Need to find two special points (called landmarks) on the tibia bone in the CT scan.\n",
    "\n",
    "These two points are:\n",
    "\n",
    "* Medial lowest point\n",
    "\n",
    "* Lateral lowest point\n",
    "\n",
    "(They are located on the bottom edge of the tibia, just on opposite sides.)"
   ]
  },
  {
   "cell_type": "markdown",
   "metadata": {
    "id": "gW1nek2whyfV"
   },
   "source": [
    "### Load the mask"
   ]
  },
  {
   "cell_type": "code",
   "execution_count": null,
   "metadata": {
    "id": "cz3FgdjA52Lx"
   },
   "outputs": [],
   "source": [
    "import nibabel as nib\n",
    "import numpy as np\n",
    "\n",
    "# choosing on mask\n",
    "img = nib.load(\"/content/randomized_mask_2.nii.gz\")\n",
    "mask = img.get_fdata()\n",
    "affine = img.affine"
   ]
  },
  {
   "cell_type": "markdown",
   "metadata": {
    "id": "2y4H24KDh4sP"
   },
   "source": [
    "### Find the lowest surface points (along z-axis)"
   ]
  },
  {
   "cell_type": "code",
   "execution_count": null,
   "metadata": {
    "id": "TVHHg-_y6DqZ"
   },
   "outputs": [],
   "source": [
    "# Get voxel coordinates where mask == 1\n",
    "coords = np.argwhere(mask == 1)\n",
    "\n",
    "# Sort by Z (vertical axis)\n",
    "coords_sorted = coords[coords[:, 2].argsort()]  # sort by lowest Z\n",
    "\n",
    "# Get the bottom-most slice that has bone\n",
    "lowest_z = coords_sorted[0, 2]\n",
    "lowest_slice_coords = coords_sorted[coords_sorted[:, 2] == lowest_z]\n"
   ]
  },
  {
   "cell_type": "markdown",
   "metadata": {
    "id": "UQcg0IKKh-Vf"
   },
   "source": [
    "### Find Medial and Lateral Points (Left and Right)"
   ]
  },
  {
   "cell_type": "code",
   "execution_count": null,
   "metadata": {
    "id": "hNIoJlTX6L7U"
   },
   "outputs": [],
   "source": [
    "# Sort by X (horizontal axis) to find leftmost and rightmost\n",
    "lowest_slice_coords = np.array(lowest_slice_coords)\n",
    "leftmost_point = lowest_slice_coords[lowest_slice_coords[:, 0].argmin()]\n",
    "rightmost_point = lowest_slice_coords[lowest_slice_coords[:, 0].argmax()]"
   ]
  },
  {
   "cell_type": "markdown",
   "metadata": {
    "id": "QWowObZRiDMJ"
   },
   "source": [
    "### Convert to real coordinates"
   ]
  },
  {
   "cell_type": "code",
   "execution_count": null,
   "metadata": {
    "colab": {
     "base_uri": "https://localhost:8080/"
    },
    "id": "q-DWJk5j6PCH",
    "outputId": "e41ae3d8-4d30-46a1-d0f8-e9309f79dcae"
   },
   "outputs": [],
   "source": [
    "# Convert from voxel to real-world (mm) coordinates\n",
    "medial_world = nib.affines.apply_affine(affine, leftmost_point)\n",
    "lateral_world = nib.affines.apply_affine(affine, rightmost_point)\n",
    "\n",
    "print(\"Medial Point:\", medial_world)\n",
    "print(\"Lateral Point:\", lateral_world)"
   ]
  },
  {
   "cell_type": "markdown",
   "metadata": {
    "id": "hmq6kVXaiOmc"
   },
   "source": [
    "### Save Points to Text File"
   ]
  },
  {
   "cell_type": "code",
   "execution_count": null,
   "metadata": {
    "id": "5HnZFE8B6TWe"
   },
   "outputs": [],
   "source": [
    "with open(\"output/landmarks_randomized_mask_2.txt\", \"w\") as f:\n",
    "    f.write(\"Medial: \" + str(medial_world) + \"\\n\")\n",
    "    f.write(\"Lateral: \" + str(lateral_world) + \"\\n\")"
   ]
  },
  {
   "cell_type": "code",
   "execution_count": null,
   "metadata": {
    "id": "wRQjYSpN6XHJ"
   },
   "outputs": [],
   "source": []
  }
 ],
 "metadata": {
  "colab": {
   "provenance": []
  },
  "language_info": {
   "name": "python"
  }
 },
 "nbformat": 4,
 "nbformat_minor": 0
}
