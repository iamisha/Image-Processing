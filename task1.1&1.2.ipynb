{
 "cells": [
  {
   "cell_type": "markdown",
   "metadata": {
    "id": "ghpk4eW6poip"
   },
   "source": [
    "# Task 1.1(Segment Bones)\n",
    "Goals:\n",
    "* Need to find and separate the femur and tibia bones from the CT scan using image processing methods.\n",
    "* Save my result in `.nii.gz` format (a format used for medical images)."
   ]
  },
  {
   "cell_type": "code",
   "execution_count": null,
   "metadata": {
    "colab": {
     "base_uri": "https://localhost:8080/"
    },
    "id": "zRWo-lpAma_U",
    "outputId": "0edd4090-c966-4bb1-a235-d655cf7741d6"
   },
   "outputs": [],
   "source": [
    "%pip install nibabel opencv-python scikit-image matplotlib numpy"
   ]
  },
  {
   "cell_type": "markdown",
   "metadata": {
    "id": "S4aIS9FhyKyZ"
   },
   "source": [
    "### Load the CT scan"
   ]
  },
  {
   "cell_type": "code",
   "execution_count": null,
   "metadata": {
    "colab": {
     "base_uri": "https://localhost:8080/"
    },
    "id": "cXR_Btw5mgHb",
    "outputId": "f425f880-4cf5-473e-8ae1-e2d24fe78845"
   },
   "outputs": [],
   "source": [
    "import nibabel as nib\n",
    "import numpy as np\n",
    "\n",
    "# loading file\n",
    "image_path = \"/content/3702_left_knee.nii.gz\"\n",
    "ct_image = nib.load(image_path)\n",
    "ct_data = ct_image.get_fdata()\n",
    "\n",
    "print(\"CT image shape:\", ct_data.shape)\n"
   ]
  },
  {
   "cell_type": "markdown",
   "metadata": {
    "id": "CBuEZ172yUav"
   },
   "source": [
    "### Visualize Some Slices"
   ]
  },
  {
   "cell_type": "code",
   "execution_count": null,
   "metadata": {
    "colab": {
     "base_uri": "https://localhost:8080/",
     "height": 428
    },
    "id": "xAJgek64nHgv",
    "outputId": "ed8d8d1c-edb2-4bf6-a0fc-98cd141742ca"
   },
   "outputs": [],
   "source": [
    "import matplotlib.pyplot as plt\n",
    "\n",
    "# View a middle slice\n",
    "slice_index = ct_data.shape[2] // 2\n",
    "plt.imshow(ct_data[:, :, slice_index], cmap='gray')\n",
    "plt.title(\"Middle Slice of CT Scan\")\n",
    "plt.axis('off')\n",
    "plt.show()"
   ]
  },
  {
   "cell_type": "markdown",
   "metadata": {
    "id": "zxAm1-DeykNR"
   },
   "source": [
    "### Apply Image Processing for Bone Segmentation"
   ]
  },
  {
   "cell_type": "code",
   "execution_count": null,
   "metadata": {
    "id": "XiNXNKuInQFR"
   },
   "outputs": [],
   "source": [
    "# Simple thresholding to separate bones\n",
    "bone_mask = ct_data > 300  # 300 is a common threshold for bone\n",
    "\n",
    "# Converting boolean to integer mask\n",
    "bone_mask = bone_mask.astype(np.uint8)"
   ]
  },
  {
   "cell_type": "markdown",
   "metadata": {
    "id": "KTY6Tefnyv83"
   },
   "source": [
    "### Save the Segmentation Mask"
   ]
  },
  {
   "cell_type": "code",
   "execution_count": null,
   "metadata": {
    "id": "NAYHqT6nnTeX"
   },
   "outputs": [],
   "source": [
    "seg_mask_img = nib.Nifti1Image(bone_mask, ct_image.affine)\n",
    "nib.save(seg_mask_img, \"output/bone_mask.nii.gz\")"
   ]
  },
  {
   "cell_type": "markdown",
   "metadata": {
    "id": "3gGYETm1y44a"
   },
   "source": [
    "### Output Image Result"
   ]
  },
  {
   "cell_type": "code",
   "execution_count": null,
   "metadata": {
    "colab": {
     "base_uri": "https://localhost:8080/",
     "height": 626
    },
    "id": "6dheTiy0nagu",
    "outputId": "74726fc9-4a89-4647-f1ba-38c6da413902"
   },
   "outputs": [],
   "source": [
    "# Plot original CT and segmented bone mask side by side\n",
    "fig, axes = plt.subplots(1, 2, figsize=(12, 6))\n",
    "\n",
    "# Original CT slice\n",
    "axes[0].imshow(ct_data[:, :, slice_index], cmap='gray')\n",
    "axes[0].set_title('Original CT Slice')\n",
    "axes[0].axis('off')\n",
    "\n",
    "# Segmented bone mask slice\n",
    "axes[1].imshow(bone_mask[:, :, slice_index], cmap='gray')\n",
    "axes[1].set_title('Segmented Bone Mask')\n",
    "axes[1].axis('off')\n",
    "\n",
    "plt.tight_layout()\n",
    "plt.show()\n"
   ]
  },
  {
   "cell_type": "markdown",
   "metadata": {
    "id": "E_sgta-SrDTA"
   },
   "source": [
    "# Task 1.2\n",
    "\n",
    "After creating a bone mask in Task 1.1 (where bone = 1 and everything else = 0), then I need to:\n",
    "* thicken of the edge (boundary) of the bone mask outward by 2 mm — for example, thickening the area of the bone slightly all the way around.\n",
    "\n",
    "This is also known as a `morphological dilation` (in image processing)."
   ]
  },
  {
   "cell_type": "markdown",
   "metadata": {
    "id": "3q-6tvxh1GjU"
   },
   "source": [
    "###  Load the bone mask created in Task 1.1"
   ]
  },
  {
   "cell_type": "code",
   "execution_count": null,
   "metadata": {
    "id": "0sSEJdkxoPfP"
   },
   "outputs": [],
   "source": [
    "bone_mask_img = nib.load(\"/content/bone_mask (1).nii.gz\")\n",
    "bone_mask = bone_mask_img.get_fdata()\n",
    "affine = bone_mask_img.affine"
   ]
  },
  {
   "cell_type": "markdown",
   "metadata": {
    "id": "ZZu55KA01Rf-"
   },
   "source": [
    "###  Understand voxel size (real-world mm size)"
   ]
  },
  {
   "cell_type": "code",
   "execution_count": null,
   "metadata": {
    "colab": {
     "base_uri": "https://localhost:8080/"
    },
    "id": "SWasTXQMsmdL",
    "outputId": "8064773d-5dff-45e0-edb2-9b8f572bf5dc"
   },
   "outputs": [],
   "source": [
    "voxel_spacing = bone_mask_img.header.get_zooms()\n",
    "print(\"Voxel size (mm):\", voxel_spacing)"
   ]
  },
  {
   "cell_type": "markdown",
   "metadata": {
    "id": "EuYwmfKq1XL-"
   },
   "source": [
    "###   Calculate how many pixels = 2 mm\n",
    "\n",
    "* modify `[ceil(4/v)]` for 4mm dilation"
   ]
  },
  {
   "cell_type": "code",
   "execution_count": null,
   "metadata": {
    "colab": {
     "base_uri": "https://localhost:8080/"
    },
    "id": "JgfTes5rsxVc",
    "outputId": "87360e09-44e1-4855-a0b4-4d922490748e"
   },
   "outputs": [],
   "source": [
    "from math import ceil\n",
    "\n",
    "# Convert 2 mm into voxel units (number of pixels)\n",
    "expand_voxels = [ceil(2/ v) for v in voxel_spacing]\n",
    "print(\"Expand by this many voxels:\", expand_voxels)"
   ]
  },
  {
   "cell_type": "markdown",
   "metadata": {
    "id": "2Vr40NSP1eWf"
   },
   "source": [
    "### Apply Morphological Dilation"
   ]
  },
  {
   "cell_type": "code",
   "execution_count": null,
   "metadata": {
    "id": "NEkV5cSzs_Da"
   },
   "outputs": [],
   "source": [
    "from scipy.ndimage import binary_dilation\n",
    "\n",
    "# Apply 3D dilation\n",
    "expanded_mask = binary_dilation(bone_mask, structure=np.ones(expand_voxels)).astype(np.uint8)"
   ]
  },
  {
   "cell_type": "markdown",
   "metadata": {
    "id": "LcVbgnk111d-"
   },
   "source": [
    "### Save the expanded mask"
   ]
  },
  {
   "cell_type": "code",
   "execution_count": null,
   "metadata": {
    "id": "W59iA0xItENe"
   },
   "outputs": [],
   "source": [
    "expanded_img = nib.Nifti1Image(expanded_mask, affine)\n",
    "nib.save(expanded_img, \"output/bone_mask_2mm_expanded.nii.gz\")"
   ]
  },
  {
   "cell_type": "markdown",
   "metadata": {
    "id": "IDCBK8Zg1_ZV"
   },
   "source": [
    "### Compare Original vs Expanded Bone Mask"
   ]
  },
  {
   "cell_type": "code",
   "execution_count": null,
   "metadata": {
    "colab": {
     "base_uri": "https://localhost:8080/",
     "height": 528
    },
    "id": "oiaRTSd2tKlk",
    "outputId": "e25cc290-539a-4089-f13c-0c8fd2803502"
   },
   "outputs": [],
   "source": [
    "# Prepare plots\n",
    "fig, axes = plt.subplots(1, 3, figsize=(15, 5))\n",
    "\n",
    "# Original bone mask\n",
    "axes[0].imshow(bone_mask[:, :, slice_index], cmap='gray')\n",
    "axes[0].set_title(\"Original Bone Mask\")\n",
    "axes[0].axis('off')\n",
    "\n",
    "# Expanded bone mask\n",
    "axes[1].imshow(expanded_mask[:, :, slice_index], cmap='gray')\n",
    "axes[1].set_title(\"2mm Expanded Mask\")\n",
    "axes[1].axis('off')\n",
    "\n",
    "# Overlay (create RGB image)\n",
    "original = bone_mask[:, :, slice_index] == 1\n",
    "expanded = expanded_mask[:, :, slice_index] == 1\n",
    "\n",
    "# Create empty RGB image\n",
    "overlay_rgb = np.zeros((*original.shape, 3), dtype=np.uint8)\n",
    "\n",
    "# Red channel: original only\n",
    "overlay_rgb[original] = [255, 0, 0]  # red\n",
    "\n",
    "# Yellow = red + green → for expanded area only\n",
    "overlay_rgb[expanded & ~original] = [255, 255, 0]  # yellow\n",
    "\n",
    "axes[2].imshow(overlay_rgb)\n",
    "axes[2].set_title(\"Overlay: Red=Original, Yellow=Expanded\")\n",
    "axes[2].axis('off')\n",
    "\n",
    "plt.tight_layout()\n",
    "plt.show()"
   ]
  },
  {
   "cell_type": "markdown",
   "metadata": {
    "id": "0BdVpXJD6kw7"
   },
   "source": [
    "### Making sure the Expansion"
   ]
  },
  {
   "cell_type": "code",
   "execution_count": null,
   "metadata": {
    "colab": {
     "base_uri": "https://localhost:8080/"
    },
    "id": "eFJwYVPouUb_",
    "outputId": "d7ea9f77-b2d6-4216-b112-656a79213eab"
   },
   "outputs": [],
   "source": [
    "diff_mask = expanded_mask - bone_mask\n",
    "diff_mask"
   ]
  },
  {
   "cell_type": "code",
   "execution_count": null,
   "metadata": {
    "colab": {
     "base_uri": "https://localhost:8080/"
    },
    "id": "lrPwfdJE5-Bj",
    "outputId": "0c8f3867-b25a-4b04-b815-4917b89d7c54"
   },
   "outputs": [],
   "source": [
    "print(np.unique(diff_mask))"
   ]
  },
  {
   "cell_type": "code",
   "execution_count": null,
   "metadata": {
    "colab": {
     "base_uri": "https://localhost:8080/"
    },
    "id": "Qlep17Bw6PEZ",
    "outputId": "fe74ec35-ea9c-4462-c392-311dd8cd6aec"
   },
   "outputs": [],
   "source": [
    "print(\"Original mask sum:\", np.sum(bone_mask))\n",
    "print(\"Expanded mask sum:\", np.sum(expanded_mask))"
   ]
  },
  {
   "cell_type": "code",
   "execution_count": null,
   "metadata": {
    "id": "OlFexulX6VJX"
   },
   "outputs": [],
   "source": []
  }
 ],
 "metadata": {
  "accelerator": "GPU",
  "colab": {
   "gpuType": "T4",
   "provenance": []
  },
  "kernelspec": {
   "display_name": "Python 3",
   "name": "python3"
  },
  "language_info": {
   "name": "python"
  }
 },
 "nbformat": 4,
 "nbformat_minor": 0
}
